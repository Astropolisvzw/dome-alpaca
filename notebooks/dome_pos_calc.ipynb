{
 "cells": [
  {
   "cell_type": "code",
   "execution_count": 100,
   "id": "e4f6d700-954f-4fbe-9f18-611dff5c3bae",
   "metadata": {},
   "outputs": [
    {
     "name": "stdout",
     "output_type": "stream",
     "text": [
      "get_rotpos: steps/spt=0.6103515625, turns=2\n",
      "degree_per_step=0.00439453125\n",
      "degree_per_turn=72.0\n",
      "turn_per_degree=0.013888888888888888\n",
      "home_rotpos=2.6103515625\n",
      "north_rotpos=1.3603515625\n"
     ]
    }
   ],
   "source": [
    "# 0 azimuth is North\n",
    "# 360 = 0\n",
    "spt = 2**14\n",
    "tpr = 5\n",
    "degree_per_turn = 360/tpr\n",
    "degree_per_step = degree_per_turn/spt\n",
    "turn_per_degree = tpr/360\n",
    "home_az = 90\n",
    "home_steps = 10000\n",
    "home_turns = 2\n",
    "home_rotpos = get_rotpos(home_steps, home_turns)\n",
    "north_rotpos = home_rotpos + ((0 - home_az)/degree_per_turn)\n",
    "assert degree_per_step*spt == degree_per_turn\n",
    "print(f\"{degree_per_step=}\\n{degree_per_turn=}\\n{turn_per_degree=}\\n{home_rotpos=}\\n{north_rotpos=}\")"
   ]
  },
  {
   "cell_type": "code",
   "execution_count": 104,
   "id": "12a2f168-6be5-4c6b-8c82-4a7279420160",
   "metadata": {},
   "outputs": [],
   "source": [
    "def get_rotpos(steps, turns):\n",
    "    print(f\"get_rotpos: {steps/spt=}, {turns=}\")\n",
    "    return steps/spt + turns\n",
    "    \n",
    "def steps_turn_to_az(steps, turns):\n",
    "    rotpos = get_rotpos(steps, turns)\n",
    "    print(f\"steps_turn_to_az: {rotpos=}, {rotpos-north_rotpos=}\")\n",
    "    return ((rotpos - north_rotpos)*degree_per_turn) % 360\n",
    "    "
   ]
  },
  {
   "cell_type": "code",
   "execution_count": 105,
   "id": "2dc62f71-409e-41bc-8354-cd1f7e356d12",
   "metadata": {},
   "outputs": [
    {
     "name": "stdout",
     "output_type": "stream",
     "text": [
      "get_rotpos: steps/spt=0.6103515625, turns=2\n",
      "steps_turn_to_az: rotpos=2.6103515625, rotpos-north_rotpos=1.25\n",
      "should be 90: 90.0\n"
     ]
    }
   ],
   "source": [
    "print(\"should be 90:\", steps_turn_to_az(10000, 2))"
   ]
  },
  {
   "cell_type": "code",
   "execution_count": 107,
   "id": "9526f99c-d6f1-44ef-8faf-1ae1a4b553be",
   "metadata": {},
   "outputs": [
    {
     "name": "stdout",
     "output_type": "stream",
     "text": [
      "get_rotpos: steps/spt=0.6103515625, turns=7\n",
      "steps_turn_to_az: rotpos=7.6103515625, rotpos-north_rotpos=6.25\n"
     ]
    },
    {
     "data": {
      "text/plain": [
       "90.0"
      ]
     },
     "execution_count": 107,
     "metadata": {},
     "output_type": "execute_result"
    }
   ],
   "source": [
    "steps_turn_to_az(10000, 7)"
   ]
  },
  {
   "cell_type": "code",
   "execution_count": 155,
   "id": "fefe81d2-5ce8-438e-8293-986c56beb490",
   "metadata": {},
   "outputs": [],
   "source": [
    "RIGHT = 1\n",
    "LEFT = 2\n",
    "\n",
    "def direction_finder(current_az, target_az):\n",
    "    diff = abs(target_az - current_az)\n",
    "    is_left = (target_az - current_az) < 0\n",
    "    return is_left, diff\n",
    "    #back_dir = abs(current_az + (360-target_az))\n",
    "    #return forward_dir, back_dir\n",
    "\n",
    "def new_direction_finder(current_az, target_az):\n",
    "    direction = 0\n",
    "    diff = abs(current_az - target_az)\n",
    "    diff2 = ((diff % 360) + 360) % 360;\n",
    "    if diff == 0:\n",
    "         direction = 0\n",
    "    if diff < 180:\n",
    "        # Rotate current directly towards target.\n",
    "        direction = RIGHT if current_az < target_az else LEFT;\n",
    "    else:\n",
    "        # Rotate the other direction towards target.\n",
    "        direction = LEFT if current_az < target_az else RIGHT;\n",
    "    print(f\"Currentaz = {current_az}, {target_az=}\")\n",
    "    return direction, diff, diff2\n",
    "    "
   ]
  },
  {
   "cell_type": "code",
   "execution_count": 156,
   "id": "5c5bdffc-3215-4640-aaa8-efc65fa869e8",
   "metadata": {},
   "outputs": [
    {
     "name": "stdout",
     "output_type": "stream",
     "text": [
      "Currentaz = 90, target_az=100\n",
      "test=(90, 100), res=(False, 180), True, diff=10, diff2=10\n",
      "Currentaz = 90, target_az=350\n",
      "test=(90, 350), res=(False, 180), True, diff=260, diff2=260\n",
      "Currentaz = 350, target_az=10\n",
      "test=(350, 10), res=(False, 180), True, diff=340, diff2=340\n",
      "Currentaz = 359, target_az=0\n",
      "test=(359, 0), res=(False, 180), True, diff=359, diff2=359\n",
      "Currentaz = 0, target_az=180\n",
      "test=(0, 180), res=(False, 180), False, diff=180, diff2=180\n",
      "Currentaz = 10, target_az=359\n",
      "test=(10, 359), res=(False, 180), True, diff=349, diff2=349\n"
     ]
    }
   ],
   "source": [
    "\n",
    "t1=(90,100)\n",
    "r1=(RIGHT)\n",
    "t2=(90,350)\n",
    "r2=(LEFT)\n",
    "t3=(350,10)\n",
    "r3=(RIGHT)\n",
    "t4=(359,0)\n",
    "r4=(RIGHT)\n",
    "t5=(0,180)\n",
    "r5=(RIGHT)\n",
    "t6=(10,359)\n",
    "r6=(LEFT)\n",
    "\n",
    "\n",
    "tests = [t1, t2, t3, t4, t5, t6]\n",
    "results = [r1, r2, r3, r4, r5, r6]\n",
    "\n",
    "for idx, test in enumerate(tests):\n",
    "    direction, diff, diff2 = new_direction_finder(*test)\n",
    "    print(f\"{test=}, {res=}, {direction == results[idx]}, {diff=}, {diff2=}\")\n",
    "    \n",
    "\n"
   ]
  },
  {
   "cell_type": "code",
   "execution_count": null,
   "id": "731ab5db-c908-4592-b997-a1d0084005bb",
   "metadata": {},
   "outputs": [],
   "source": []
  }
 ],
 "metadata": {
  "kernelspec": {
   "display_name": "Python 3 (ipykernel)",
   "language": "python",
   "name": "python3"
  },
  "language_info": {
   "codemirror_mode": {
    "name": "ipython",
    "version": 3
   },
   "file_extension": ".py",
   "mimetype": "text/x-python",
   "name": "python",
   "nbconvert_exporter": "python",
   "pygments_lexer": "ipython3",
   "version": "3.9.10"
  }
 },
 "nbformat": 4,
 "nbformat_minor": 5
}
