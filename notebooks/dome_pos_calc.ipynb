{
 "cells": [
  {
   "cell_type": "code",
   "execution_count": 158,
   "id": "e4f6d700-954f-4fbe-9f18-611dff5c3bae",
   "metadata": {},
   "outputs": [
    {
     "name": "stdout",
     "output_type": "stream",
     "text": [
      "get_rotpos: steps/spt=0.6103515625, turns=2\n",
      "degree_per_step=0.00439453125\n",
      "degree_per_turn=72.0\n",
      "turn_per_degree=0.013888888888888888\n",
      "home_rotpos=2.6103515625\n",
      "north_rotpos=1.3603515625\n"
     ]
    }
   ],
   "source": [
    "import logging\n",
    "\n",
    "def get_rotpos(steps, turns):\n",
    "    print(f\"get_rotpos: {steps/spt=}, {turns=}\")\n",
    "    return steps/spt + turns\n",
    "    \n",
    "def steps_turn_to_az(steps, turns):\n",
    "    rotpos = get_rotpos(steps, turns)\n",
    "    print(f\"steps_turn_to_az: {rotpos=}, {rotpos-north_rotpos=}\")\n",
    "    return ((rotpos - north_rotpos)*degree_per_turn) % 360\n",
    "    \n",
    "\n",
    "# 0 azimuth is North\n",
    "# 360 = 0\n",
    "spt = 2**14\n",
    "tpr = 5\n",
    "degree_per_turn = 360/tpr\n",
    "degree_per_step = degree_per_turn/spt\n",
    "turn_per_degree = tpr/360\n",
    "home_az = 90\n",
    "home_steps = 10000\n",
    "home_turns = 2\n",
    "home_rotpos = get_rotpos(home_steps, home_turns)\n",
    "north_rotpos = home_rotpos + ((0 - home_az)/degree_per_turn)\n",
    "assert degree_per_step*spt == degree_per_turn\n",
    "print(f\"{degree_per_step=}\\n{degree_per_turn=}\\n{turn_per_degree=}\\n{home_rotpos=}\\n{north_rotpos=}\")"
   ]
  },
  {
   "cell_type": "code",
   "execution_count": 159,
   "id": "2dc62f71-409e-41bc-8354-cd1f7e356d12",
   "metadata": {},
   "outputs": [
    {
     "name": "stdout",
     "output_type": "stream",
     "text": [
      "get_rotpos: steps/spt=0.6103515625, turns=2\n",
      "steps_turn_to_az: rotpos=2.6103515625, rotpos-north_rotpos=1.25\n",
      "should be 90: 90.0\n"
     ]
    }
   ],
   "source": [
    "print(\"should be 90:\", steps_turn_to_az(10000, 2))"
   ]
  },
  {
   "cell_type": "code",
   "execution_count": 160,
   "id": "9526f99c-d6f1-44ef-8faf-1ae1a4b553be",
   "metadata": {},
   "outputs": [
    {
     "name": "stdout",
     "output_type": "stream",
     "text": [
      "get_rotpos: steps/spt=0.6103515625, turns=7\n",
      "steps_turn_to_az: rotpos=7.6103515625, rotpos-north_rotpos=6.25\n"
     ]
    },
    {
     "data": {
      "text/plain": [
       "90.0"
      ]
     },
     "execution_count": 160,
     "metadata": {},
     "output_type": "execute_result"
    }
   ],
   "source": [
    "steps_turn_to_az(10000, 7)"
   ]
  },
  {
   "cell_type": "code",
   "execution_count": 163,
   "id": "fefe81d2-5ce8-438e-8293-986c56beb490",
   "metadata": {},
   "outputs": [
    {
     "name": "stdout",
     "output_type": "stream",
     "text": [
      "(-4.537856055185257, -4.537856055185257, 260.0)\n",
      "1.5707963267948966 6.1086523819801535\n"
     ]
    }
   ],
   "source": [
    "RIGHT = 1\n",
    "LEFT = 2\n",
    "limits = {LEFT: -270, RIGHT:270}\n",
    "\n",
    "def direction_finder(current_az, target_az):\n",
    "    diff = abs(target_az - current_az)\n",
    "    is_left = (target_az - current_az) < 0\n",
    "    return is_left, diff\n",
    "    #back_dir = abs(current_az + (360-target_az))\n",
    "    #return forward_dir, back_dir\n",
    "\n",
    "def new_direction_finder(current_az, target_az, limits, limitscounter):\n",
    "    diff1 = (target_az - current_az)%360\n",
    "    if diff1 == 0:\n",
    "        direction = RIGHT\n",
    "        diff = 0\n",
    "    if diff1 == 180:\n",
    "        print(\"180 degrees, going towards the shortest cable\")\n",
    "        direction = RIGHT if limitscounter[RIGHT] < abs(limitscounter[LEFT]) else LEFT\n",
    "    if current_az + 180 > target_az:\n",
    "        # Rotate current directly towards target.\n",
    "        direction = RIGHT\n",
    "        diff = diff1\n",
    "    else:\n",
    "        # Rotate the other direction towards target.\n",
    "        direction = LEFT\n",
    "        diff = current_az + 360 - target_az\n",
    "\n",
    "    print(f\"Orig result: {'LEFT' if direction==LEFT else 'RIGHT'}, {diff=}\")\n",
    "    if direction == LEFT:\n",
    "        total_left = limitscounter[LEFT] - diff\n",
    "        print(f\"{total_left=}, {limitscounter[RIGHT]=}\")\n",
    "        if total_left+limitscounter[RIGHT] < limits[LEFT]:\n",
    "            print(\"cable length violation\")\n",
    "            direction = RIGHT\n",
    "            diff = 360 - diff\n",
    "    else:\n",
    "        total_right = limitscounter[RIGHT] + diff\n",
    "        print(f\"{limitscounter[LEFT]=}, {total_right=}\")\n",
    "        if limitscounter[LEFT]+total_right > limits[RIGHT]:\n",
    "            print(\"cable length violation\")\n",
    "            direction = LEFT\n",
    "            diff = 360 - diff\n",
    "        \n",
    "    return direction, diff\n",
    "\n",
    "import math\n",
    "\n",
    "def shortest_path(currentaz, targetaz):\n",
    "    diff_rad = math.radians(currentaz) - math.radians(targetaz)\n",
    "    diff_rad2 = math.radians(currentaz) - math.radians(targetaz)\n",
    "    return diff_rad, diff_rad2, math.degrees(abs(diff_rad))\n",
    "    \n",
    "print(shortest_path(90,350))\n",
    "print(math.radians(90), math.radians(350))"
   ]
  },
  {
   "cell_type": "code",
   "execution_count": 164,
   "id": "5c5bdffc-3215-4640-aaa8-efc65fa869e8",
   "metadata": {},
   "outputs": [
    {
     "name": "stdout",
     "output_type": "stream",
     "text": [
      "{2: -270, 1: 270}\n",
      "{2: -260, 1: 0}\n",
      "Orig result: RIGHT, diff=10\n",
      "limitscounter[LEFT]=-260, total_right=10\n",
      "TEST: test=(90, 100), RIGHT, diff=10, True\n",
      "Expected: RIGHT, 10\n",
      "\n",
      "Orig result: LEFT, diff=100\n",
      "total_left=-360, limitscounter[RIGHT]=0\n",
      "cable length violation\n",
      "TEST: test=(90, 350), RIGHT, diff=260, False\n",
      "Expected: LEFT, 100\n",
      "\n",
      "Orig result: RIGHT, diff=20\n",
      "limitscounter[LEFT]=-260, total_right=20\n",
      "TEST: test=(350, 10), RIGHT, diff=20, True\n",
      "Expected: RIGHT, 20\n",
      "\n",
      "Orig result: RIGHT, diff=1\n",
      "limitscounter[LEFT]=-260, total_right=1\n",
      "TEST: test=(359, 0), RIGHT, diff=1, True\n",
      "Expected: RIGHT, 1\n",
      "\n",
      "180 degrees, going towards the shortest cable\n",
      "Orig result: LEFT, diff=180\n",
      "total_left=-440, limitscounter[RIGHT]=0\n",
      "cable length violation\n",
      "TEST: test=(0, 180), RIGHT, diff=180, True\n",
      "Expected: RIGHT, 180\n",
      "\n",
      "Orig result: LEFT, diff=11\n",
      "total_left=-271, limitscounter[RIGHT]=0\n",
      "cable length violation\n",
      "TEST: test=(10, 359), RIGHT, diff=349, False\n",
      "Expected: LEFT, 11\n",
      "\n"
     ]
    }
   ],
   "source": [
    "\n",
    "t1=(90,100)\n",
    "r1=(RIGHT, 10)\n",
    "t2=(90,350)\n",
    "r2=(LEFT, 100)\n",
    "t3=(350,10)\n",
    "r3=(RIGHT, 20)\n",
    "t4=(359,0)\n",
    "r4=(RIGHT, 1)\n",
    "t5=(0,180)\n",
    "r5=(RIGHT, 180)\n",
    "t6=(10,359)\n",
    "r6=(LEFT, 11)\n",
    "\n",
    "\n",
    "tests = [t1, t2, t3, t4, t5, t6]\n",
    "results = [r1, r2, r3, r4, r5, r6]\n",
    "\n",
    "print(limits)\n",
    "print(limitscounter)\n",
    "for idx, test in enumerate(tests):\n",
    "    limitscounter = {LEFT: -260, RIGHT: 0}\n",
    "    direction, diff = new_direction_finder(*test, limits, limitscounter)\n",
    "    \n",
    "    print(f\"TEST: {test=}, {'LEFT' if direction == LEFT else 'RIGHT'}, {diff=}, {direction == results[idx][0] and diff == results[idx][1]}\")\n",
    "    print(f\"Expected: {'LEFT' if results[idx][0] == LEFT else 'RIGHT'}, {results[idx][1]}\\n\")\n",
    "    \n",
    "\n"
   ]
  },
  {
   "cell_type": "code",
   "execution_count": 62,
   "id": "731ab5db-c908-4592-b997-a1d0084005bb",
   "metadata": {},
   "outputs": [
    {
     "data": {
      "text/plain": [
       "True"
      ]
     },
     "execution_count": 62,
     "metadata": {},
     "output_type": "execute_result"
    }
   ],
   "source": [
    "isinstance('N', str)"
   ]
  },
  {
   "cell_type": "code",
   "execution_count": null,
   "id": "a586dd19-eb52-4cdb-b917-9f3e252600e6",
   "metadata": {},
   "outputs": [],
   "source": [
    "cables = {\"LEFT\": 0, \"LEFT_MAX\": -270, \"RIGHT\": 0, \"RIGHT_MAX\": 270}\n",
    "\n",
    "\n"
   ]
  },
  {
   "cell_type": "code",
   "execution_count": 120,
   "id": "2d04b781-9b51-4d41-a158-b4039f0f766e",
   "metadata": {},
   "outputs": [
    {
     "data": {
      "text/plain": [
       "340"
      ]
     },
     "execution_count": 120,
     "metadata": {},
     "output_type": "execute_result"
    }
   ],
   "source": [
    "700%360"
   ]
  },
  {
   "cell_type": "code",
   "execution_count": 49,
   "id": "ca751824-9f3b-467f-b334-573742a94e9a",
   "metadata": {},
   "outputs": [],
   "source": [
    "from dataclasses import dataclass\n",
    "\n",
    "@dataclass(init=True, repr=True, eq=True, order=False, unsafe_hash=False, frozen=False)\n",
    "class DomePos:\n",
    "    # don't change externally!\n",
    "    steps: int\n",
    "    turns: int\n",
    "    az: float\n",
    "    rotpos: float = -1\n",
    "\n",
    "    def __init__(self, steps, turns, az):\n",
    "        self.steps = steps\n",
    "        self.turns = turns\n",
    "        self.az = az\n",
    "\n",
    "    @property\n",
    "    def alt(self) -> int:\n",
    "        return 0\n"
   ]
  },
  {
   "cell_type": "code",
   "execution_count": 50,
   "id": "a20b1d7b-ab72-4682-86be-3abb23aad4d9",
   "metadata": {},
   "outputs": [],
   "source": [
    "a = DomePos(steps=0, turns=1, az=90)"
   ]
  },
  {
   "cell_type": "code",
   "execution_count": 51,
   "id": "faae3226-0776-4705-afd8-6b93b27cc254",
   "metadata": {},
   "outputs": [
    {
     "data": {
      "text/plain": [
       "DomePos(steps=0, turns=1, az=90, rotpos=-1)"
      ]
     },
     "execution_count": 51,
     "metadata": {},
     "output_type": "execute_result"
    }
   ],
   "source": [
    "a"
   ]
  },
  {
   "cell_type": "markdown",
   "id": "6000cd7f-e421-4da7-b230-6adcdbb78453",
   "metadata": {},
   "source": [
    "# Figuring out atan2 for angle calculations"
   ]
  },
  {
   "cell_type": "code",
   "execution_count": 1,
   "id": "038081da-dc06-4a84-9d6e-12df7c7c56c8",
   "metadata": {},
   "outputs": [],
   "source": [
    "from math import radians, degrees, atan2"
   ]
  },
  {
   "cell_type": "code",
   "execution_count": 2,
   "id": "a53ce218-15f7-415e-a83a-2332ca6b0bc0",
   "metadata": {},
   "outputs": [
    {
     "data": {
      "text/plain": [
       "26.56505117707799"
      ]
     },
     "execution_count": 2,
     "metadata": {},
     "output_type": "execute_result"
    }
   ],
   "source": [
    "def calc_angle(angle1, angle2):\n",
    "    return degrees(atan2(radians(angle1), radians(angle2)))\n",
    "\n",
    "calc_angle(90,180)\n"
   ]
  },
  {
   "cell_type": "code",
   "execution_count": 14,
   "id": "7f08e723-eebf-48bc-9222-11195f9d8b8c",
   "metadata": {},
   "outputs": [
    {
     "name": "stdout",
     "output_type": "stream",
     "text": [
      "/Users/mike/dev/astropolis/koepel/dome-alpaca/notebooks\n"
     ]
    }
   ],
   "source": [
    "import os\n",
    "print(os.getcwd())\n",
    "os.chdir('..')\n"
   ]
  },
  {
   "cell_type": "code",
   "execution_count": 121,
   "id": "6cec4f70-6e76-4ede-b928-60fd9b6c218e",
   "metadata": {},
   "outputs": [],
   "source": [
    "import math\n",
    "def smallest_diff(angle1, angle2):\n",
    "    \"\"\" smallest diff between 2 angles, including sign (minus is LEFT rotate) \"\"\"\n",
    "    diff1 = (angle1 - angle2)%360\n",
    "    diff2 = (angle2 - angle1)%360\n",
    "    return min(diff1, diff2)\n",
    "\n",
    "def smallest_diff_signed(angle1, angle2):\n",
    "    \"\"\" smallest diff between 2 angles, including sign (minus is LEFT rotate) \"\"\"\n",
    "    anglediff1 = (angle1 - angle2)\n",
    "    anglediff2 = (angle2 - angle1)\n",
    "    diff1 = anglediff1%360\n",
    "    diff1sgn = math.copysign(1, anglediff1)\n",
    "    diff2 = anglediff2%360\n",
    "    diff2sgn = math.copysign(1, anglediff2)\n",
    "    return diff1sgn*diff1, diff2sgn*diff2\n",
    "\n",
    "def smallest_diff_signed2(angle1, angle2):\n",
    "    \"\"\" smallest diff between 2 angles, including sign (minus is LEFT rotate) \"\"\"\n",
    "    anglediff1 = (angle1 - angle2)\n",
    "    anglediff2 = (angle2 - angle1)\n",
    "    print(f\"1-2: {anglediff1},{anglediff2} \")\n",
    "    diff1 = (angle1 - angle2)%360\n",
    "    print(f\"{diff1=}, {angle2-angle1}\")\n",
    "    diff2 = (angle2 - angle1)%360\n",
    "    print(f\"{diff2=}\")\n",
    "    if diff1 < diff2:\n",
    "        return math.copysign(1, anglediff1)*diff1\n",
    "    else:\n",
    "        return math.copysign(1, anglediff2)*diff2\n",
    "\n",
    "def oldway(start, end):\n",
    "    print(f\"FROM {start} TO {end}\")\n",
    "    start_end = (start - end)\n",
    "    end_start = (end - start)\n",
    "    bigstart_end = start+360-end\n",
    "    end_start360 = (end - start)%360\n",
    "    print(f\"1-2={start_end}, 2-1={end_start}, bigstart={bigstart_end}, 2-1%360={end_start360}\")\n",
    "    # if abs(end_start) < end_start360:\n",
    "    #     return end_start\n",
    "    # else:\n",
    "    #     return end_start360\n",
    "                \n",
    "    if end < start or start + 180 > end:\n",
    "        # Rotate current directly towards target.\n",
    "        direction = 1\n",
    "        diff = end_start360\n",
    "        print(f\"CASE1: {direction}, {diff}\")\n",
    "    else:\n",
    "        # Rotate the other direction towards target.\n",
    "        direction = -1\n",
    "        diff = start + 360 - end\n",
    "        print(f\"CASE2: {direction}, {diff}\")\n",
    "    return math.copysign(1, direction) * diff\n",
    "\n",
    "def newway1(first, second):\n",
    "    # https://stackoverflow.com/questions/9505862/shortest-distance-between-two-degree-marks-on-a-circle\n",
    "    print(f\"FROM {first} TO {second}\")\n",
    "    firstbiggest = -1 if first > second else 1\n",
    "    print(f\"{firstbiggest=}\")\n",
    "    raw_diff = first - second if first > second else second - first\n",
    "    print(f\"{raw_diff=}\")\n",
    "    mod_diff = math.fmod(raw_diff, 360.0);\n",
    "    print(f\"{mod_diff=}\")\n",
    "    dist = -(360 - mod_diff) if mod_diff > 180.0 else mod_diff*math.copysign(1,firstbiggest)\n",
    "    return dist\n",
    "\n",
    "def newway(origin, target):\n",
    "    MAX_VALUE=360.0\n",
    "\n",
    "    signedDiff = 0.0;\n",
    "    raw_diff = origin - target if origin > target else target - origin\n",
    "    mod_diff = math.fmod(raw_diff, MAX_VALUE);\n",
    "\n",
    "    if(mod_diff > (MAX_VALUE/2) ):\n",
    "        # There is a shorter path in opposite direction\n",
    "        signedDiff = (MAX_VALUE - mod_diff)\n",
    "        if(target>origin): signedDiff = signedDiff * -1;\n",
    "    else:\n",
    "        signedDiff = mod_diff;\n",
    "        if(origin>target): signedDiff = signedDiff * -1;\n",
    "\n",
    "    return signedDiff;\n"
   ]
  },
  {
   "cell_type": "code",
   "execution_count": 122,
   "id": "fe9f80f2-4702-476c-b506-a7b9930aa12d",
   "metadata": {},
   "outputs": [
    {
     "name": "stdout",
     "output_type": "stream",
     "text": [
      "result=90.0, should be 90\n",
      "\n",
      "result=-90.0, should be -90\n",
      "\n",
      "result=24.0, should be 24\n",
      "\n",
      "result=-24.0, should be -24\n",
      "\n"
     ]
    }
   ],
   "source": [
    "# print(f\"result={smallest_diff_signed2(90,180)}, should be {90}\\n\")\n",
    "# print(f\"result={smallest_diff_signed2(180,90)}, should be {-90}\\n\")\n",
    "# print(f\"result={smallest_diff_signed2(350,14)}, should be {24}\\n\")\n",
    "# print(f\"result={smallest_diff_signed2(14, 350)}, should be {-24}\\n\")\n",
    "\n",
    "# print(f\"result={oldway(90,180)}, should be {90}\\n\")\n",
    "# print(f\"result={oldway(180,90)}, should be {-90}\\n\")\n",
    "# print(f\"result={oldway(350,14)}, should be {24}\\n\")\n",
    "# print(f\"result={oldway(14, 350)}, should be {-24}\\n\")\n",
    "\n",
    "print(f\"result={newway(90,180)}, should be {90}\\n\")\n",
    "print(f\"result={newway(180,90)}, should be {-90}\\n\")\n",
    "print(f\"result={newway(350,14)}, should be {24}\\n\")\n",
    "print(f\"result={newway(14, 350)}, should be {-24}\\n\")\n",
    "\n"
   ]
  },
  {
   "cell_type": "code",
   "execution_count": 39,
   "id": "5b0a8b13-61dc-4849-9d2b-5d76fa97bf76",
   "metadata": {},
   "outputs": [
    {
     "data": {
      "text/plain": [
       "-90.0"
      ]
     },
     "execution_count": 39,
     "metadata": {},
     "output_type": "execute_result"
    }
   ],
   "source": [
    "math.fmod(-90, 180)"
   ]
  },
  {
   "cell_type": "code",
   "execution_count": 107,
   "id": "1e74775c-e25c-403f-a917-3202c35bb001",
   "metadata": {},
   "outputs": [
    {
     "data": {
      "text/plain": [
       "1.0"
      ]
     },
     "execution_count": 107,
     "metadata": {},
     "output_type": "execute_result"
    }
   ],
   "source": [
    "math.sin(math.radians(90))"
   ]
  },
  {
   "cell_type": "code",
   "execution_count": null,
   "id": "ef3a7065-441c-4de7-bd0e-e492763d8cc6",
   "metadata": {},
   "outputs": [],
   "source": []
  }
 ],
 "metadata": {
  "kernelspec": {
   "display_name": "Python 3 (ipykernel)",
   "language": "python",
   "name": "python3"
  },
  "language_info": {
   "codemirror_mode": {
    "name": "ipython",
    "version": 3
   },
   "file_extension": ".py",
   "mimetype": "text/x-python",
   "name": "python",
   "nbconvert_exporter": "python",
   "pygments_lexer": "ipython3",
   "version": "3.9.10"
  }
 },
 "nbformat": 4,
 "nbformat_minor": 5
}
