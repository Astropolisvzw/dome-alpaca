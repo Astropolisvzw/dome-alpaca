{
 "cells": [
  {
   "cell_type": "code",
   "execution_count": 100,
   "id": "e4f6d700-954f-4fbe-9f18-611dff5c3bae",
   "metadata": {},
   "outputs": [
    {
     "name": "stdout",
     "output_type": "stream",
     "text": [
      "get_rotpos: steps/spt=0.6103515625, turns=2\n",
      "degree_per_step=0.00439453125\n",
      "degree_per_turn=72.0\n",
      "turn_per_degree=0.013888888888888888\n",
      "home_rotpos=2.6103515625\n",
      "north_rotpos=1.3603515625\n"
     ]
    }
   ],
   "source": [
    "# 0 azimuth is North\n",
    "# 360 = 0\n",
    "spt = 2**14\n",
    "tpr = 5\n",
    "degree_per_turn = 360/tpr\n",
    "degree_per_step = degree_per_turn/spt\n",
    "turn_per_degree = tpr/360\n",
    "home_az = 90\n",
    "home_steps = 10000\n",
    "home_turns = 2\n",
    "home_rotpos = get_rotpos(home_steps, home_turns)\n",
    "north_rotpos = home_rotpos + ((0 - home_az)/degree_per_turn)\n",
    "assert degree_per_step*spt == degree_per_turn\n",
    "print(f\"{degree_per_step=}\\n{degree_per_turn=}\\n{turn_per_degree=}\\n{home_rotpos=}\\n{north_rotpos=}\")"
   ]
  },
  {
   "cell_type": "code",
   "execution_count": 104,
   "id": "12a2f168-6be5-4c6b-8c82-4a7279420160",
   "metadata": {},
   "outputs": [],
   "source": [
    "def get_rotpos(steps, turns):\n",
    "    print(f\"get_rotpos: {steps/spt=}, {turns=}\")\n",
    "    return steps/spt + turns\n",
    "    \n",
    "def steps_turn_to_az(steps, turns):\n",
    "    rotpos = get_rotpos(steps, turns)\n",
    "    print(f\"steps_turn_to_az: {rotpos=}, {rotpos-north_rotpos=}\")\n",
    "    return ((rotpos - north_rotpos)*degree_per_turn) % 360\n",
    "    "
   ]
  },
  {
   "cell_type": "code",
   "execution_count": 105,
   "id": "2dc62f71-409e-41bc-8354-cd1f7e356d12",
   "metadata": {},
   "outputs": [
    {
     "name": "stdout",
     "output_type": "stream",
     "text": [
      "get_rotpos: steps/spt=0.6103515625, turns=2\n",
      "steps_turn_to_az: rotpos=2.6103515625, rotpos-north_rotpos=1.25\n",
      "should be 90: 90.0\n"
     ]
    }
   ],
   "source": [
    "print(\"should be 90:\", steps_turn_to_az(10000, 2))"
   ]
  },
  {
   "cell_type": "code",
   "execution_count": 107,
   "id": "9526f99c-d6f1-44ef-8faf-1ae1a4b553be",
   "metadata": {},
   "outputs": [
    {
     "name": "stdout",
     "output_type": "stream",
     "text": [
      "get_rotpos: steps/spt=0.6103515625, turns=7\n",
      "steps_turn_to_az: rotpos=7.6103515625, rotpos-north_rotpos=6.25\n"
     ]
    },
    {
     "data": {
      "text/plain": [
       "90.0"
      ]
     },
     "execution_count": 107,
     "metadata": {},
     "output_type": "execute_result"
    }
   ],
   "source": [
    "steps_turn_to_az(10000, 7)"
   ]
  },
  {
   "cell_type": "code",
   "execution_count": null,
   "id": "fefe81d2-5ce8-438e-8293-986c56beb490",
   "metadata": {},
   "outputs": [],
   "source": []
  },
  {
   "cell_type": "code",
   "execution_count": null,
   "id": "5c5bdffc-3215-4640-aaa8-efc65fa869e8",
   "metadata": {},
   "outputs": [],
   "source": []
  }
 ],
 "metadata": {
  "kernelspec": {
   "display_name": "Python 3 (ipykernel)",
   "language": "python",
   "name": "python3"
  },
  "language_info": {
   "codemirror_mode": {
    "name": "ipython",
    "version": 3
   },
   "file_extension": ".py",
   "mimetype": "text/x-python",
   "name": "python",
   "nbconvert_exporter": "python",
   "pygments_lexer": "ipython3",
   "version": "3.9.10"
  }
 },
 "nbformat": 4,
 "nbformat_minor": 5
}
